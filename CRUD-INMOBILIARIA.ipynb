{
 "cells": [
  {
   "cell_type": "markdown",
   "id": "1cdb664c",
   "metadata": {},
   "source": [
    "# CRUD \n",
    "se trato de crear una base de clientes para un agente mobiliario, en el cual se incluia nombre, telefono, correo electronico, fecha de primer contacto"
   ]
  },
  {
   "cell_type": "code",
   "execution_count": 6,
   "id": "bd27a360",
   "metadata": {},
   "outputs": [
    {
     "name": "stdout",
     "output_type": "stream",
     "text": [
      "Agentes antes de la actualización:\n",
      "+----+------------+-----------+------------------+--------------------------+\n",
      "| ID |   Nombre   | Teléfono  |      Correo      | Fecha de Primer Contacto |\n",
      "+----+------------+-----------+------------------+--------------------------+\n",
      "| 1  |  John Doe  | 123456789 | john@example.com |        2020-01-30        |\n",
      "| 2  | Jane Smith | 987654321 | jane@example.com |        2020-01-25        |\n",
      "+----+------------+-----------+------------------+--------------------------+\n",
      "\n",
      "Agentes después de la actualización:\n",
      "+----+------------+-----------+------------------+--------------------------+\n",
      "| ID |   Nombre   | Teléfono  |      Correo      | Fecha de Primer Contacto |\n",
      "+----+------------+-----------+------------------+--------------------------+\n",
      "| 1  |  John Doe  | 999999999 | john@example.com |        2020-01-30        |\n",
      "| 2  | Jane Smith | 987654321 | jane@example.com |        2020-01-25        |\n",
      "+----+------------+-----------+------------------+--------------------------+\n",
      "\n",
      "Agentes después de la eliminación:\n",
      "+----+----------+-----------+------------------+--------------------------+\n",
      "| ID |  Nombre  | Teléfono  |      Correo      | Fecha de Primer Contacto |\n",
      "+----+----------+-----------+------------------+--------------------------+\n",
      "| 1  | John Doe | 999999999 | john@example.com |        2020-01-30        |\n",
      "+----+----------+-----------+------------------+--------------------------+\n"
     ]
    }
   ],
   "source": [
    "import sqlite3\n",
    "from tabulate import tabulate\n",
    "\n",
    "# Conectar a la base de datos (o crearla si no existe)\n",
    "conexion = sqlite3.connect('inmobiliaria1.db')\n",
    "cursor = conexion.cursor()\n",
    "\n",
    "# Crear una tabla si no existe\n",
    "cursor.execute('''\n",
    "    CREATE TABLE IF NOT EXISTS agentes (\n",
    "        id INTEGER PRIMARY KEY AUTOINCREMENT,\n",
    "        nombre TEXT,\n",
    "        telefono TEXT,\n",
    "        correo TEXT,\n",
    "        fecha_primer_contacto TEXT\n",
    "    )\n",
    "''')\n",
    "conexion.commit()\n",
    "\n",
    "# Operación de Crear (Create)\n",
    "def crear_agente(nombre, telefono, correo, fecha_primer_contacto):\n",
    "    cursor.execute('INSERT INTO agentes (nombre, telefono, correo, fecha_primer_contacto) VALUES (?, ?, ?, ?)',\n",
    "                   (nombre, telefono, correo, fecha_primer_contacto))\n",
    "    conexion.commit()\n",
    "\n",
    "# Operación de Leer (Read)\n",
    "def obtener_agentes():\n",
    "    cursor.execute('SELECT * FROM agentes')\n",
    "    return cursor.fetchall()\n",
    "\n",
    "# Operación de Actualizar (Update)\n",
    "def actualizar_agente(id, nombre, telefono, correo, fecha_primer_contacto):\n",
    "    cursor.execute('''\n",
    "        UPDATE agentes SET nombre=?, telefono=?, correo=?, fecha_primer_contacto=?\n",
    "        WHERE id=?\n",
    "    ''', (nombre, telefono, correo, fecha_primer_contacto, id))\n",
    "    conexion.commit()\n",
    "\n",
    "# Operación de Eliminar (Delete)\n",
    "def eliminar_agente(id):\n",
    "    cursor.execute('DELETE FROM agentes WHERE id=?', (id,))\n",
    "    conexion.commit()\n",
    "\n",
    "# Ejemplo de uso\n",
    "crear_agente('John Doe', '123456789', 'john@example.com', '2020-01-30')\n",
    "crear_agente('Jane Smith', '987654321', 'jane@example.com', '2020-01-25')\n",
    "\n",
    "print(\"Agentes antes de la actualización:\")\n",
    "print(tabulate(obtener_agentes(), headers=['ID', 'Nombre', 'Teléfono', 'Correo', 'Fecha de Primer Contacto'], tablefmt='pretty'))\n",
    "\n",
    "actualizar_agente(1, 'John Doe', '999999999', 'john@example.com', '2020-01-30')\n",
    "\n",
    "print(\"\\nAgentes después de la actualización:\")\n",
    "print(tabulate(obtener_agentes(), headers=['ID', 'Nombre', 'Teléfono', 'Correo', 'Fecha de Primer Contacto'], tablefmt='pretty'))\n",
    "\n",
    "eliminar_agente(2)\n",
    "\n",
    "print(\"\\nAgentes después de la eliminación:\")\n",
    "print(tabulate(obtener_agentes(), headers=['ID', 'Nombre', 'Teléfono', 'Correo', 'Fecha de Primer Contacto'], tablefmt='pretty'))\n",
    "\n",
    "# Cerrar la conexión a la base de datos al finalizar\n",
    "conexion.close()\n"
   ]
  },
  {
   "cell_type": "code",
   "execution_count": null,
   "id": "6418d8dc",
   "metadata": {},
   "outputs": [],
   "source": []
  }
 ],
 "metadata": {
  "kernelspec": {
   "display_name": "Python 3 (ipykernel)",
   "language": "python",
   "name": "python3"
  },
  "language_info": {
   "codemirror_mode": {
    "name": "ipython",
    "version": 3
   },
   "file_extension": ".py",
   "mimetype": "text/x-python",
   "name": "python",
   "nbconvert_exporter": "python",
   "pygments_lexer": "ipython3",
   "version": "3.11.4"
  }
 },
 "nbformat": 4,
 "nbformat_minor": 5
}
